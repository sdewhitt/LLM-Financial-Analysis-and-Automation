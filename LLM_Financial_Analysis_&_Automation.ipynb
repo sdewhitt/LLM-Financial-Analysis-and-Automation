{
  "nbformat": 4,
  "nbformat_minor": 0,
  "metadata": {
    "colab": {
      "provenance": [],
      "toc_visible": true,
      "mount_file_id": "1GwfoEZF3x5Y5kL0fmqagQqQmIupOFO0H",
      "authorship_tag": "ABX9TyMp6Pva5XygSNzZJRALfVFM",
      "include_colab_link": true
    },
    "kernelspec": {
      "name": "python3",
      "display_name": "Python 3"
    },
    "language_info": {
      "name": "python"
    }
  },
  "cells": [
    {
      "cell_type": "markdown",
      "metadata": {
        "id": "view-in-github",
        "colab_type": "text"
      },
      "source": [
        "<a href=\"https://colab.research.google.com/github/sdewhitt/LLM-Financial-Analysis-and-Automation/blob/main/LLM_Financial_Analysis_%26_Automation.ipynb\" target=\"_parent\"><img src=\"https://colab.research.google.com/assets/colab-badge.svg\" alt=\"Open In Colab\"/></a>"
      ]
    },
    {
      "cell_type": "code",
      "execution_count": null,
      "metadata": {
        "id": "rzekX4cNsqXV"
      },
      "outputs": [],
      "source": []
    }
  ]
}